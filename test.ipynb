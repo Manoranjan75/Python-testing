{
 "cells": [
  {
   "cell_type": "code",
   "execution_count": null,
   "metadata": {},
   "outputs": [],
   "source": [
    "pip install pytest\n"
   ]
  },
  {
   "cell_type": "code",
   "execution_count": 2,
   "metadata": {},
   "outputs": [],
   "source": [
    "import pytest\n",
    "from src.calculator import add, subtract, multiply, divide\n",
    "\n",
    "def test_add():\n",
    "    assert add(3, 5) == 8\n",
    "    assert add(-1, 1) == 0\n",
    "    assert add(-1, -1) == -2\n",
    "\n",
    "def test_subtract():\n",
    "    assert subtract(10, 5) == 5\n",
    "    assert subtract(-1, -1) == 0\n",
    "    assert subtract(-1, 1) == -2\n",
    "\n",
    "def test_multiply():\n",
    "    assert multiply(2, 3) == 6\n",
    "    assert multiply(-1, 1) == -1\n",
    "    assert multiply(0, 1) == 0\n",
    "\n",
    "def test_divide():\n",
    "    assert divide(10, 2) == 5\n",
    "    assert divide(-10, 2) == -5\n",
    "    with pytest.raises(ValueError):\n",
    "        divide(10, 0)\n"
   ]
  },
  {
   "cell_type": "code",
   "execution_count": null,
   "metadata": {},
   "outputs": [],
   "source": []
  }
 ],
 "metadata": {
  "kernelspec": {
   "display_name": "Python 3",
   "language": "python",
   "name": "python3"
  },
  "language_info": {
   "codemirror_mode": {
    "name": "ipython",
    "version": 3
   },
   "file_extension": ".py",
   "mimetype": "text/x-python",
   "name": "python",
   "nbconvert_exporter": "python",
   "pygments_lexer": "ipython3",
   "version": "3.8.2"
  }
 },
 "nbformat": 4,
 "nbformat_minor": 2
}
